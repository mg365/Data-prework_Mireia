{
 "cells": [
  {
   "cell_type": "markdown",
   "metadata": {},
   "source": [
    "<img src=\"https://bit.ly/2VnXWr2\" width=\"100\" align=\"left\">"
   ]
  },
  {
   "cell_type": "markdown",
   "metadata": {},
   "source": [
    "# Rock, Paper & Scissors\n",
    "\n",
    "Let's play the famous game against our computer. You can check the rules [here](https://en.wikipedia.org/wiki/Rock%E2%80%93paper%E2%80%93scissors). \n",
    "\n",
    "## Task\n",
    "Create a program that imitates the playability of the well known game of rock, paper, scissors. Follow the guidelines provided.\n",
    "\n",
    "## Tools\n",
    "1. Loop: **for/while**\n",
    "2. Functions: **input(), print()...**\n",
    "3. Conditional statements: **if, elif, else**\n",
    "4. Definition of functions. Modular programming\n",
    "5. Import modules\n",
    "\n",
    "**To solve this challenge, the use of functions is recommended.**\n",
    "\n",
    "#### 1. Import the choice function of the random module."
   ]
  },
  {
   "cell_type": "code",
   "execution_count": 5,
   "metadata": {},
   "outputs": [],
   "source": [
    "import random"
   ]
  },
  {
   "cell_type": "markdown",
   "metadata": {},
   "source": [
    "#### 2. Create a list that includes the 3 possible gesture options of the game: 'rock', 'paper' or 'scissors'. Store the list in a variable called `gestures`."
   ]
  },
  {
   "cell_type": "code",
   "execution_count": 2,
   "metadata": {},
   "outputs": [],
   "source": [
    "options=[\"rock\",\"paper\",\"scissors\"]"
   ]
  },
  {
   "cell_type": "markdown",
   "metadata": {},
   "source": [
    "#### 3. Create a variable called `n_rounds` to store the maximum number of rounds to play in a game. \n",
    "Remember that the number of rounds must be odd: 1, 3, 5, ..."
   ]
  },
  {
   "cell_type": "code",
   "execution_count": 1,
   "metadata": {},
   "outputs": [],
   "source": [
    "rounds=3"
   ]
  },
  {
   "cell_type": "markdown",
   "metadata": {},
   "source": [
    "#### 4. Create a variable called `rounds_to_win` to store the number of rounds that a player must win to win the game.\n",
    "**Hint**: the value stored in `rounds_to_win` depends on the value of `n_rounds`. "
   ]
  },
  {
   "cell_type": "code",
   "execution_count": 3,
   "metadata": {},
   "outputs": [],
   "source": [
    "win=2"
   ]
  },
  {
   "cell_type": "markdown",
   "metadata": {},
   "source": [
    "#### 5. Create two variables to store the number of rounds that the computer and the player have won. Call these variables `cpu_score` and `player_score`."
   ]
  },
  {
   "cell_type": "code",
   "execution_count": null,
   "metadata": {},
   "outputs": [],
   "source": [
    "#created later"
   ]
  },
  {
   "cell_type": "markdown",
   "metadata": {},
   "source": [
    "#### 6. Define a function that randomly returns one of the 3 gesture options.\n",
    "You will use this function to simulate the gesture choice of the computer. "
   ]
  },
  {
   "cell_type": "code",
   "execution_count": 7,
   "metadata": {},
   "outputs": [
    {
     "data": {
      "text/plain": [
       "'rock'"
      ]
     },
     "execution_count": 7,
     "metadata": {},
     "output_type": "execute_result"
    }
   ],
   "source": [
    "def computer():\n",
    "    global computer_choice\n",
    "    computer_choice=random.choice(options)\n",
    "    computer_choice=computer_choice.lower()\n",
    "computer()\n",
    "computer_choice"
   ]
  },
  {
   "cell_type": "markdown",
   "metadata": {},
   "source": [
    "#### 7. Define a function that asks the player which is the gesture he or she wants to show: 'rock', 'paper' or 'scissors'.\n",
    "The player should only be allowed to choose one of the 3 gesture options. If the player's choice is not rock, paper or scissors, keep asking until it is."
   ]
  },
  {
   "cell_type": "code",
   "execution_count": 8,
   "metadata": {},
   "outputs": [
    {
     "name": "stdout",
     "output_type": "stream",
     "text": [
      "Rock, paper, scissors?: paper\n"
     ]
    },
    {
     "data": {
      "text/plain": [
       "'paper'"
      ]
     },
     "execution_count": 8,
     "metadata": {},
     "output_type": "execute_result"
    }
   ],
   "source": [
    "def user():\n",
    "    global user_choice\n",
    "    user=input(\"Rock, paper, scissors?: \")\n",
    "    user=user.lower()\n",
    "    while user!=\"rock\" and user!=\"paper\" and user!= \"scissors\":\n",
    "        print(\"I am afraid that is not what I asked\")\n",
    "        user=input(\"Rock, paper or scissors?: \")\n",
    "        user=user.lower()\n",
    "    else:\n",
    "        user_choice=user.lower()\n",
    "    return user_choice\n",
    "    \n",
    "user()"
   ]
  },
  {
   "cell_type": "code",
   "execution_count": 9,
   "metadata": {},
   "outputs": [
    {
     "name": "stdout",
     "output_type": "stream",
     "text": [
      "paper\n"
     ]
    }
   ],
   "source": [
    "print(user_choice)"
   ]
  },
  {
   "cell_type": "markdown",
   "metadata": {},
   "source": [
    "#### 8. Define a function that checks who won a round. \n",
    "The function should return 0 if there is a tie, 1 if the computer wins and 2 if the player wins."
   ]
  },
  {
   "cell_type": "code",
   "execution_count": 10,
   "metadata": {},
   "outputs": [
    {
     "data": {
      "text/plain": [
       "2"
      ]
     },
     "execution_count": 10,
     "metadata": {},
     "output_type": "execute_result"
    }
   ],
   "source": [
    "def score ():\n",
    "    global user_points\n",
    "    global computer_points\n",
    "    user_points=0\n",
    "    computer_points=0\n",
    "    if user_choice==computer_choice:\n",
    "        return 0\n",
    "    elif user_choice==\"rock\" and computer_choice==\"scissors\":\n",
    "        user_points+=1\n",
    "        return 2\n",
    "    elif user_choice.lower==\"scissors\" and computer_choice==\"paper\":\n",
    "        user_points+=1\n",
    "        return 2\n",
    "    elif user_choice==\"paper\" and computer_choice==\"rock\":\n",
    "        user_points+=1\n",
    "        return 2\n",
    "    else:\n",
    "        computer_points+=1\n",
    "        return 1\n",
    "    return user_points\n",
    "    return computer_points\n",
    "score()"
   ]
  },
  {
   "cell_type": "markdown",
   "metadata": {},
   "source": [
    "#### 9. Define a function that prints the choice of the computer, the choice of the player and a message that announces who won the current round. \n",
    "You should also use this function to update the variables that count the number of rounds that the computer and the player have won. The score of the winner increases by one point. If there is a tie, the score does not increase."
   ]
  },
  {
   "cell_type": "code",
   "execution_count": 11,
   "metadata": {},
   "outputs": [
    {
     "name": "stdout",
     "output_type": "stream",
     "text": [
      "The computer's choice is: rock\n",
      "Your choice is: paper\n",
      "user: 1  computer: 0\n"
     ]
    }
   ],
   "source": [
    "def results_per_round():\n",
    "    print (\"The computer's choice is: {}\".format(computer_choice))\n",
    "    print (\"Your choice is: {}\".format(user_choice))\n",
    "    print (\"user: {}  computer: {}\".format(user_points,computer_points))\n",
    "\n",
    "\n",
    "results_per_round()"
   ]
  },
  {
   "cell_type": "markdown",
   "metadata": {},
   "source": [
    "#### 10. Now it's time to code the execution of the game using the functions and variables you defined above. \n",
    "\n",
    "First, create a loop structure that repeats while no player reaches the minimum score necessary to win and the number of rounds is less than the maximum number of rounds to play in a game.  \n",
    "\n",
    "Inside the loop, use the functions and variables above to create the execution of a round: ask for the player's choice, generate the random choice of the computer, show the round results, update the scores, etc. "
   ]
  },
  {
   "cell_type": "code",
   "execution_count": 14,
   "metadata": {},
   "outputs": [
    {
     "name": "stdout",
     "output_type": "stream",
     "text": [
      "Round: 1\n",
      "Rock, paper, scissors?: rock\n",
      "The computer's choice is: rock\n",
      "Your choice is: rock\n",
      "user: 0  computer: 0\n",
      "Total user points:0\n",
      "Total computer points:0\n",
      "Round: 2\n",
      "Rock, paper, scissors?: rock\n",
      "The computer's choice is: rock\n",
      "Your choice is: rock\n",
      "user: 0  computer: 0\n",
      "Total user points:0\n",
      "Total computer points:0\n",
      "Round: 3\n",
      "Rock, paper, scissors?: rock\n",
      "The computer's choice is: scissors\n",
      "Your choice is: rock\n",
      "user: 1  computer: 0\n",
      "Total user points:1\n",
      "Total computer points:0\n",
      "\n",
      "Well done! You smashed it!!\n"
     ]
    }
   ],
   "source": [
    "Round=0\n",
    "user_total=0\n",
    "computer_total=0\n",
    "while Round<=2 and user_total<=1 and computer_total<=1:\n",
    "    Round+=1\n",
    "    print (\"Round: {}\".format(Round))\n",
    "    computer()\n",
    "    user()\n",
    "    score()\n",
    "    results_per_round()\n",
    "    user_total+=user_points\n",
    "    computer_total+=computer_points\n",
    "    print(\"Total user points:{}\".format(user_total))\n",
    "    print(\"Total computer points:{}\".format(computer_total))\n",
    "else:\n",
    "    if rounds!=2:\n",
    "        if computer_total>user_total:\n",
    "            print(\"Game over my friend, it seems you lost\")\n",
    "        elif computer_total<user_total:\n",
    "            print(\"\\nWell done! You smashed it!!\")\n",
    "        else:\n",
    "            print(\"Your tries are up!\")"
   ]
  },
  {
   "cell_type": "markdown",
   "metadata": {},
   "source": [
    "#### 11. Print the winner of the game based on who won more rounds.\n",
    "Remember that the game might be tied. "
   ]
  },
  {
   "cell_type": "code",
   "execution_count": 16,
   "metadata": {},
   "outputs": [
    {
     "name": "stdout",
     "output_type": "stream",
     "text": [
      "And the winner is.....YOU! congratulations!\n"
     ]
    }
   ],
   "source": [
    "if computer_total>user_total:\n",
    "    print(\"And the winner is......NOT you, sorry\")\n",
    "elif computer_total==user_total:\n",
    "    print(\"it is a tie\")\n",
    "else:\n",
    "    print(\"And the winner is.....YOU! congratulations!\")"
   ]
  },
  {
   "cell_type": "markdown",
   "metadata": {},
   "source": [
    "# Bonus: Rock, Paper, Scissors, Lizard & Spock\n",
    "![](images/rpsls.jpg)\n",
    "\n",
    "In this challenge, you need to improve the previous game by adding two new options. To know more about the rules of the improved version of rock, paper, scissors, check this [link](http://www.samkass.com/theories/RPSSL.html). \n",
    "\n",
    "In addition, you will also need to improve how the game interacts with the player: the number of rounds to play, which must be an odd number, will be requested to the user until a valid number is entered. Define a new function to make that request.\n",
    "\n",
    "**Hint**: Try to reuse the code that you already coded in the previous challenge. If your code is efficient, this bonus will only consist of simple modifications to the original game."
   ]
  },
  {
   "cell_type": "code",
   "execution_count": 28,
   "metadata": {},
   "outputs": [
    {
     "name": "stdout",
     "output_type": "stream",
     "text": [
      "How many rounds do you want to play? 3\n",
      "\n",
      "Round: 1\n",
      "Rock, paper, scissors, lizard, spock?: spock\n",
      "The computer's choice is: spock\n",
      "Your choice is: spock\n",
      "user: 0  computer: 0\n",
      "Total user points:0\n",
      "Total computer points:0\n",
      "\n",
      "\n",
      "Round: 2\n",
      "Rock, paper, scissors, lizard, spock?: spock\n",
      "The computer's choice is: spock\n",
      "Your choice is: spock\n",
      "user: 0  computer: 0\n",
      "Total user points:0\n",
      "Total computer points:0\n",
      "\n",
      "\n",
      "Round: 3\n",
      "Rock, paper, scissors, lizard, spock?: spock\n",
      "The computer's choice is: paper\n",
      "Your choice is: spock\n",
      "user: 0  computer: 1\n",
      "Total user points:0\n",
      "Total computer points:1\n",
      "\n",
      "Game over my friend, it seems you lost\n",
      "And the winner is......NOT you, sorry\n"
     ]
    }
   ],
   "source": [
    "import random\n",
    "options=[\"rock\",\"paper\",\"scissors\",\"lizard\",\"spock\"]\n",
    "rounds=input(\"How many rounds do you want to play? \")\n",
    "while int(rounds)%2==0:\n",
    "    rounds=input(\"How many rounds do you want to play? \")\n",
    "wins=2\n",
    "#computer choice\n",
    "def computer():\n",
    "    global computer_choice\n",
    "    computer_choice=random.choice(options)\n",
    "    computer_choice=computer_choice.lower()\n",
    "#user choice\n",
    "def user():\n",
    "    global user_choice\n",
    "    user=input(\"Rock, paper, scissors, lizard, spock?: \")\n",
    "    user=user.lower()\n",
    "    while user!=\"rock\" and user!=\"paper\" and user!= \"scissors\" and user!=\"lizard\" and user!= \"spock\":\n",
    "        print(\"I am afraid that is not what I asked\")\n",
    "        user=input(\"Rock, paper, scissors, lizard, spock?: \")\n",
    "        user=user.lower()\n",
    "    else:\n",
    "        user_choice=user.lower()\n",
    "    return user_choice\n",
    "#who won?\n",
    "def score ():\n",
    "    global user_points\n",
    "    global computer_points\n",
    "    user_points=0\n",
    "    computer_points=0\n",
    "    if user_choice==computer_choice:\n",
    "        return 0\n",
    "    elif user_choice==\"rock\" and (computer_choice==\"scissors\" or computer_choice==\"lizard\"):\n",
    "        user_points+=1\n",
    "        return 2\n",
    "    elif user_choice.lower==\"scissors\" and (computer_choice==\"paper\" or computer_choice==\"lizard\"):\n",
    "        user_points+=1\n",
    "        return 2\n",
    "    elif user_choice==\"paper\" and (computer_choice==\"rock\" or computer_choice==\"spock\"):\n",
    "        user_points+=1\n",
    "        return 2\n",
    "    elif user_choice==\"lizard\" and (computer_choice==\"paper\" or computer_choice==\"spock\"):\n",
    "        user_points+=1\n",
    "        return 2\n",
    "    elif user_choice==\"spock\" and (computer_choice==\"rock\" or computer_choice==\"scissors\"):\n",
    "        user_points+=1\n",
    "        return 2\n",
    "    else:\n",
    "        computer_points+=1\n",
    "        return 1\n",
    "    return user_points\n",
    "    return computer_points\n",
    "#who won the round\n",
    "def results_per_round():\n",
    "    print (\"The computer's choice is: {}\".format(computer_choice))\n",
    "    print (\"Your choice is: {}\".format(user_choice))\n",
    "    print (\"user: {}  computer: {}\".format(user_points,computer_points))\n",
    "#the game\n",
    "Round=0\n",
    "user_total=0\n",
    "computer_total=0\n",
    "while Round<int(rounds):\n",
    "    Round+=1\n",
    "    print (\"\\nRound: {}\".format(Round))\n",
    "    computer()\n",
    "    user()\n",
    "    score()\n",
    "    results_per_round()\n",
    "    user_total+=user_points\n",
    "    computer_total+=computer_points\n",
    "    print(\"Total user points:{}\".format(user_total))\n",
    "    print(\"Total computer points:{}\\n\".format(computer_total))\n",
    "else:\n",
    "    if Round>=int(rounds):\n",
    "        if computer_total>user_total:\n",
    "            print(\"Game over my friend, it seems you lost\")\n",
    "        elif computer_total<user_total:\n",
    "            print(\"\\nWell done! You smashed it!!\")\n",
    "        else:\n",
    "            print(\"Your tries are up!\")\n",
    "#who won?\n",
    "if computer_total>user_total:\n",
    "    print(\"And the winner is......NOT you, sorry\")\n",
    "elif computer_total==user_total:\n",
    "    print(\"Everyone is a winner today\")\n",
    "else:\n",
    "    print(\"And the winner is.....YOU! congratulations!\")"
   ]
  }
 ],
 "metadata": {
  "kernelspec": {
   "display_name": "Python 3",
   "language": "python",
   "name": "python3"
  },
  "language_info": {
   "codemirror_mode": {
    "name": "ipython",
    "version": 3
   },
   "file_extension": ".py",
   "mimetype": "text/x-python",
   "name": "python",
   "nbconvert_exporter": "python",
   "pygments_lexer": "ipython3",
   "version": "3.7.6"
  }
 },
 "nbformat": 4,
 "nbformat_minor": 2
}
