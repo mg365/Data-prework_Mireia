{
 "cells": [
  {
   "cell_type": "markdown",
   "metadata": {},
   "source": [
    "<img src=\"https://bit.ly/2VnXWr2\" width=\"100\" align=\"left\">"
   ]
  },
  {
   "cell_type": "markdown",
   "metadata": {},
   "source": [
    "# The Snail and the Well\n",
    "\n",
    "A snail falls at the bottom of a 125 cm well. Each day the snail rises 30 cm. But at night, while sleeping, slides 20 cm because the walls are wet. How many days does it take for the snail to escape the well?\n",
    "\n",
    "**Hint**: The snail gets out of the well when it surpasses the 125cm of height.\n",
    "\n",
    "## Tools\n",
    "\n",
    "1. Loop: **while**\n",
    "2. Conditional statements: **if-else**\n",
    "3. Function: **print()**\n",
    "\n",
    "## Tasks\n",
    "\n",
    "#### 1. Assign the challenge data to variables with representative names: `well_height`, `daily_distance`, `nightly_distance` and `snail_position`."
   ]
  },
  {
   "cell_type": "code",
   "execution_count": 2,
   "metadata": {},
   "outputs": [],
   "source": [
    "well=125\n",
    "daily_distance=30\n",
    "nightly_decrease=-20\n",
    "snail_position=0\n",
    "full_day_distance=daily_distance+nightly_decrease"
   ]
  },
  {
   "cell_type": "markdown",
   "metadata": {},
   "source": [
    "#### 2. Create a variable `days` to keep count of the days that pass until the snail escapes the well. "
   ]
  },
  {
   "cell_type": "code",
   "execution_count": 3,
   "metadata": {},
   "outputs": [],
   "source": [
    "days=0"
   ]
  },
  {
   "cell_type": "markdown",
   "metadata": {},
   "source": [
    "#### 3. Find the solution to the challenge using the variables defined above. "
   ]
  },
  {
   "cell_type": "code",
   "execution_count": 4,
   "metadata": {},
   "outputs": [
    {
     "name": "stdout",
     "output_type": "stream",
     "text": [
      "day: 1\n",
      "snail position: 10 cm    left to climb: 115 cm\n",
      "day: 2\n",
      "snail position: 20 cm    left to climb: 105 cm\n",
      "day: 3\n",
      "snail position: 30 cm    left to climb: 95 cm\n",
      "day: 4\n",
      "snail position: 40 cm    left to climb: 85 cm\n",
      "day: 5\n",
      "snail position: 50 cm    left to climb: 75 cm\n",
      "day: 6\n",
      "snail position: 60 cm    left to climb: 65 cm\n",
      "day: 7\n",
      "snail position: 70 cm    left to climb: 55 cm\n",
      "day: 8\n",
      "snail position: 80 cm    left to climb: 45 cm\n",
      "day: 9\n",
      "snail position: 90 cm    left to climb: 35 cm\n",
      "day: 10\n",
      "snail position: 100 cm    left to climb: 25 cm\n",
      "day: 11\n",
      "snail position: 110 cm    left to climb: 15 cm\n",
      "day: 12\n",
      "snail position: 120 cm    left to climb: 5 cm\n",
      "\t\n",
      "the snail is finally out! it only took him 13 days\n"
     ]
    }
   ],
   "source": [
    "while snail_position<=125:\n",
    "    days+=1\n",
    "    snail_position=snail_position+full_day_distance\n",
    "      \n",
    "    if snail_position>125:\n",
    "        print(\"\\t\")\n",
    "        print(\"the snail is finally out! it only took him\",days,\"days\")\n",
    "    else:\n",
    "        print(\"day:\",days)\n",
    "        print(\"snail position:\",snail_position,\"cm\",\"   left to climb:\",well-snail_position,\"cm\")\n",
    "        "
   ]
  },
  {
   "cell_type": "markdown",
   "metadata": {},
   "source": [
    "print(\"it took the snail\",days,\"days\")"
   ]
  },
  {
   "cell_type": "markdown",
   "metadata": {},
   "source": [
    "## Bonus\n",
    "The distance traveled by the snail each day is now defined by a list.\n",
    "```\n",
    "advance_cm = [30, 21, 33, 77, 44, 45, 23, 45, 12, 34, 55]\n",
    "```\n",
    "On the first day, the snail rises 30cm but during the night it slides 20cm. On the second day, the snail rises 21cm but during the night it slides 20cm, and so on. \n",
    "\n",
    "#### 1. How many days does it take for the snail to escape the well?\n",
    "Follow the same guidelines as in the previous challenge.\n",
    "\n",
    "**Hint**: Remember that the snail gets out of the well when it surpasses the 125cm of height."
   ]
  },
  {
   "cell_type": "code",
   "execution_count": 6,
   "metadata": {},
   "outputs": [
    {
     "name": "stdout",
     "output_type": "stream",
     "text": [
      "day: 1   position: 10 cm\n",
      "day: 2   position: 11 cm\n",
      "day: 3   position: 24 cm\n",
      "day: 4   position: 81 cm\n",
      "day: 5   position: 105 cm\n",
      "day: 6   position: 130 cm\n",
      "\t\n",
      "It is out! it took him: 6 days\n"
     ]
    }
   ],
   "source": [
    "well=125\n",
    "night=20\n",
    "day_advance=[30,21,33,77,44,45,23,45,12,34,55]\n",
    "days=0\n",
    "snail_position=0\n",
    "\n",
    "for day in day_advance:\n",
    "  if snail_position<=well:\n",
    "    snail_position=snail_position+day-night\n",
    "    days+=1\n",
    "    print(\"day:\",days,\"  position:\",snail_position,\"cm\")\n",
    "    \n",
    "else:\n",
    "  print(\"\\t\")  \n",
    "  print(\"It is out! it took him:\",days,\"days\")"
   ]
  },
  {
   "cell_type": "markdown",
   "metadata": {},
   "source": [
    "#### 2. What is its maximum displacement in one day? And its minimum? Calculate the displacement using only the travel distance of the days used to get out of the well. \n",
    "**Hint**: Remember that displacement means the total distance risen taking into account that the snail slides at night.  "
   ]
  },
  {
   "cell_type": "code",
   "execution_count": 7,
   "metadata": {},
   "outputs": [
    {
     "name": "stdout",
     "output_type": "stream",
     "text": [
      "day: 1      displacement: 10\n",
      "day: 2      displacement: 1\n",
      "day: 3      displacement: 13\n",
      "day: 4      displacement: 57\n",
      "day: 5      displacement: 24\n",
      "day: 6      displacement: 25\n",
      "\t\n",
      "maximum displacement is: 57 cm \n",
      "minimum displacement is: 1 cm\n"
     ]
    }
   ],
   "source": [
    "days_passed=0\n",
    "displacement=[]\n",
    "for day in day_advance[:6]:\n",
    "    day_displacement=day-night\n",
    "    days_passed+=1\n",
    "    print(\"day:\",days_passed,\"    \",\"displacement:\",day_displacement)\n",
    "    displacement.append(day_displacement)\n",
    "max_displacement=max(displacement)\n",
    "min_displacement=min(displacement)\n",
    "print(\"\\t\")\n",
    "print(\n",
    "\"maximum displacement is: {} cm \\nminimum displacement is: {} cm\".format(max_displacement,min_displacement) \n",
    ")\n",
    "    "
   ]
  },
  {
   "cell_type": "markdown",
   "metadata": {},
   "source": [
    "#### 3. What is its average progress? Take into account the snail slides at night."
   ]
  },
  {
   "cell_type": "code",
   "execution_count": 15,
   "metadata": {},
   "outputs": [
    {
     "name": "stdout",
     "output_type": "stream",
     "text": [
      "Its average progress is: 21.67 cm\n"
     ]
    }
   ],
   "source": [
    "import statistics\n",
    "print(\n",
    "\"Its average progress is: {} cm\".format(round(statistics.mean(displacement),2))\n",
    ")"
   ]
  },
  {
   "cell_type": "markdown",
   "metadata": {},
   "source": [
    "#### 4. What is the standard deviation of its displacement? Take into account the snail slides at night."
   ]
  },
  {
   "cell_type": "code",
   "execution_count": 17,
   "metadata": {},
   "outputs": [
    {
     "name": "stdout",
     "output_type": "stream",
     "text": [
      "The standard deviation is 17.81\n"
     ]
    }
   ],
   "source": [
    "#the displacement values used (up til day 6) are considered as a population on its own and not just a sample of the all population\n",
    "print(\"The standard deviation is {}\".format(round(statistics.pstdev(displacement),2)))"
   ]
  }
 ],
 "metadata": {
  "kernelspec": {
   "display_name": "Python 3",
   "language": "python",
   "name": "python3"
  },
  "language_info": {
   "codemirror_mode": {
    "name": "ipython",
    "version": 3
   },
   "file_extension": ".py",
   "mimetype": "text/x-python",
   "name": "python",
   "nbconvert_exporter": "python",
   "pygments_lexer": "ipython3",
   "version": "3.7.6"
  }
 },
 "nbformat": 4,
 "nbformat_minor": 2
}
