{
 "cells": [
  {
   "cell_type": "markdown",
   "metadata": {},
   "source": [
    "<img src=\"https://bit.ly/2VnXWr2\" width=\"100\" align=\"left\"/>"
   ]
  },
  {
   "cell_type": "markdown",
   "metadata": {},
   "source": [
    "# Robin Hood\n",
    "Robin Hood has entered a competition to win the archery contest in Sherwood. With his bow and arrows, he needs to shoot on a target and try to hit as close as possible to the center.\n",
    "\n",
    "![](images/arrows.jpg)\n",
    "\n",
    "## Context\n",
    "In this challenge, the landing position of arrows shot by archers in the competition will be represented using 2-dimensional coordinates. \n",
    "\n",
    "In the 2-dimensional space, a point can be defined by a pair of values that correspond to the horizontal coordinate (x) and the vertical coordinate (y). For example, in our case, an arrow that hits the center of the archery target will land in position (0, 0) on the coordinate axes. \n",
    "\n",
    "The space can be divided into 4 zones (quadrants): Q1, Q2, Q3, Q4. If a point is in Q1, both its x coordinate and y coordinate are positive. Any point with a null x or y coordinate is considered to not belong to any quadrant. \n",
    "\n",
    "If you want to know more about the cartesian coordinate system, you can check this [link](https://en.wikipedia.org/wiki/Cartesian_coordinate_system). \n",
    "\n",
    "## Tools\n",
    "You don't necessarily need to use all the tools. Maybe you opt to use some of them or completely different ones, they are given to help you shape the exercise. Programming exercises can be solved in many different ways.\n",
    "* Data structures: **lists, sets, tuples**\n",
    "* Conditional statements: **if-elif-else**\n",
    "* Loop: **while/for**\n",
    "* Minimum (optional sorting)\n",
    "\n",
    "## Tasks\n",
    "Robin Hood has hit the following points:"
   ]
  },
  {
   "cell_type": "code",
   "execution_count": 2,
   "metadata": {},
   "outputs": [],
   "source": [
    "points = [(4, 5), (-0, 2), (4, 7), (1, -3), (3, -2), (4, 5), (3, 2), (5, 7), (-5, 7), (2, 2), (-4, 5), (0, -2),\n",
    "          (-4, 7), (-1, 3), (-3, 2), (-4, -5), (-3, 2), (5, 7), (5, 7), (2, 2), (9, 9), (-8, -9)]"
   ]
  },
  {
   "cell_type": "markdown",
   "metadata": {},
   "source": [
    "#### 1. Robin Hood is famous for hitting an arrow with another arrow. Find the coordinates of the points where an arrow hits another arrow."
   ]
  },
  {
   "cell_type": "code",
   "execution_count": 24,
   "metadata": {},
   "outputs": [
    {
     "name": "stdout",
     "output_type": "stream",
     "text": [
      "length of the points list: 22\n",
      "length of the points list without repeated points: 17\n",
      "\n",
      "\n",
      "The repeated points are: [(4, 5), (-3, 2), (5, 7), (5, 7), (2, 2)]\n"
     ]
    }
   ],
   "source": [
    "#There are 22 points in the list points\n",
    "\n",
    "print(\"length of the points list:\",len(points))\n",
    "\n",
    "#with the set function we eliminate all the repeated points to know the number of repeated points: 5.\n",
    "\n",
    "non_repeated=set(points)\n",
    "print(\"length of the points list without repeated points:\",len(non_repeated))\n",
    "\n",
    "#a function that compares both lists and tells the repeated points\n",
    "unique=[]\n",
    "r_shots=[]\n",
    "for shot in points:\n",
    "    if shot not in unique:\n",
    "        unique.append(shot)\n",
    "    else:\n",
    "        r_shots.append(shot)\n",
    "print(\"\\n\")    \n",
    "print(\"The repeated points are:\",r_shots)\n"
   ]
  },
  {
   "cell_type": "markdown",
   "metadata": {},
   "source": [
    "#### 2. Calculate how many arrows have fallen in each quadrant. \n",
    "**Note**: the arrows that fall in the axis (x=0 or y=0) don't belong to any quadrant."
   ]
  },
  {
   "cell_type": "code",
   "execution_count": 33,
   "metadata": {},
   "outputs": [
    {
     "name": "stdout",
     "output_type": "stream",
     "text": [
      "Arrows per quadrant:\n",
      "Q1:11\tQ2:6\n",
      "Q3:2\tQ3:3\n",
      "\n",
      "But none in the middle...\n",
      "\n",
      "Q1: [(4, 5), (0, 2), (4, 7), (4, 5), (3, 2), (5, 7), (2, 2), (5, 7), (5, 7), (2, 2), (9, 9)]\n",
      "Q2: [(-5, 7), (-4, 5), (-4, 7), (-1, 3), (-3, 2), (-3, 2)]\n",
      "Q3 [(-4, -5), (-8, -9)]\n",
      "Q4 [(1, -3), (3, -2), (0, -2)]\n",
      "Middle: []\n"
     ]
    }
   ],
   "source": [
    "#QUADRANTS:Q1:(x,y); Q2:(-x,y); Q3:(-x,-y); Q4: (x,-y)\n",
    "#the repeated points will be considered as separate points\n",
    "Q1=[]\n",
    "Q2=[]\n",
    "Q3=[]\n",
    "Q4=[]\n",
    "middle=[]\n",
    "for point1,point2 in points:\n",
    "    if point1==abs(point1) and point2==abs(point2):\n",
    "        point=(point1,point2)\n",
    "        Q1.append(point) \n",
    "    elif point1!=abs(point1) and point2==abs(point2):\n",
    "        point=(point1,point2)\n",
    "        Q2.append(point)\n",
    "    elif point1!=abs(point1) and point2!=abs(point2):\n",
    "        point=(point1,point2)\n",
    "        Q3.append(point)\n",
    "    elif point1==abs(point1) and point2!=abs(point2):\n",
    "        point=(point1,point2)\n",
    "        Q4.append(point)\n",
    "    else:\n",
    "        point=(point1,point2)\n",
    "        middle.append(point)\n",
    "\n",
    "print (\"Arrows per quadrant:\\nQ1:{}\\tQ2:{}\\nQ3:{}\\tQ3:{}\\n\\nBut none in the middle...\\n\".format(len(Q1),len(Q2),len(Q3),len(Q4),middle))\n",
    "print(\"Q1:\",Q1)\n",
    "print(\"Q2:\",Q2)\n",
    "print(\"Q3\",Q3)\n",
    "print(\"Q4\",Q4)\n",
    "print(\"Middle:\",middle)"
   ]
  },
  {
   "cell_type": "markdown",
   "metadata": {},
   "source": [
    "#### 3. Find the point closest to the center. Calculate its distance to the center. \n",
    "Take into account that there might be more than one point at the minimum distance to the center.\n",
    "\n",
    "**Hint**: Use the Euclidean distance. You can find more information about it [here](https://en.wikipedia.org/wiki/Euclidean_distance).  \n",
    "**Hint**: Defining a function that calculates the distance to the center can help."
   ]
  },
  {
   "cell_type": "code",
   "execution_count": 81,
   "metadata": {},
   "outputs": [
    {
     "name": "stdout",
     "output_type": "stream",
     "text": [
      "min distance is: 2.0\n",
      "The points that have the minimum distance from the center are: [(0, -2), (0, 2)]\n"
     ]
    }
   ],
   "source": [
    "#We will work with the non_repeated list since it contains no repeated points (as the name indicates)\n",
    "#the Euclidean distance between two points in 2D is distance=sqrt((x2-x1)**2+(y2-y1)**2) since one of the points is\n",
    "#the origin point (0,0) the formula can be reduced to d=sqrt((x2)**2+(y2)**2) being (x2,y2) the other point.\n",
    "\n",
    "\n",
    "#to create a list with the points (x,y) and the distance (d)\n",
    "\n",
    "def distance (Points):\n",
    "    import math\n",
    "    P_d=[]\n",
    "    for x,y in Points:\n",
    "        d=round(math.sqrt((x)**2+(y)**2),2)\n",
    "        point_val=(x,y,d)\n",
    "        P_d.append(point_val)\n",
    "    return (P_d)\n",
    "\n",
    "#to calculate de min distance  \n",
    "def min_d (dist_points):    \n",
    "    Z=[]\n",
    "    for x,y,z in dist_points:\n",
    "      Z.append(z)\n",
    "    min_d=min(Z)\n",
    "    print(\"min distance is:\",min_d)\n",
    "\n",
    "#to find the points with the minimum distance     \n",
    "    min_points=[]\n",
    "    for x,y,z in dist_points:\n",
    "      if z==2.0:\n",
    "        point=(x,y)\n",
    "        min_points.append(point)\n",
    "    print(\"The points that have the minimum distance from the center are:\",min_points)\n",
    "    \n",
    "    return\n",
    "\n",
    "min_d(distance(non_repeated))"
   ]
  },
  {
   "cell_type": "markdown",
   "metadata": {},
   "source": [
    "#### 4. If the archery target has a radius of 9, calculate the number of arrows that won't hit the target. \n",
    "**Hint**: Use the function created in step 3. "
   ]
  },
  {
   "cell_type": "code",
   "execution_count": 93,
   "metadata": {},
   "outputs": [
    {
     "name": "stdout",
     "output_type": "stream",
     "text": [
      "Arrows out of target: 2\n",
      "Point where it hit:(9,9) \t Distance from center: 12.73\n",
      "Point where it hit:(-8,-9) \t Distance from center: 12.04\n"
     ]
    }
   ],
   "source": [
    "#I am using the full list since I need all the arrows shot\n",
    "Distance=distance(points)\n",
    "\n",
    "\n",
    "def in_out_9 (points_list):\n",
    "    out_9=[]\n",
    "    points=[]\n",
    "    for x,y,z in Distance:\n",
    "        if z>9:\n",
    "            out_9.append(z)\n",
    "            point=(x,y,z)\n",
    "            points.append(point)\n",
    "    print(\"Arrows out of target:\",len(out_9))\n",
    "    for x,y,z in points:\n",
    "        print(\"Point where it hit:({},{}) \\t Distance from center: {}\".format(x,y,z))\n",
    "    return\n",
    "\n",
    "in_out_9(Distance)"
   ]
  }
 ],
 "metadata": {
  "kernelspec": {
   "display_name": "Python 3",
   "language": "python",
   "name": "python3"
  },
  "language_info": {
   "codemirror_mode": {
    "name": "ipython",
    "version": 3
   },
   "file_extension": ".py",
   "mimetype": "text/x-python",
   "name": "python",
   "nbconvert_exporter": "python",
   "pygments_lexer": "ipython3",
   "version": "3.7.6"
  }
 },
 "nbformat": 4,
 "nbformat_minor": 2
}
